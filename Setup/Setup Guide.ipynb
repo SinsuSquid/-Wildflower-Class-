{
 "cells": [
  {
   "cell_type": "markdown",
   "id": "ad3e6569-78c2-4bde-8eed-6ac766b02b30",
   "metadata": {},
   "source": [
    "# Set Up"
   ]
  },
  {
   "cell_type": "markdown",
   "id": "b929917b-d198-4db6-bb1c-d8b624a35148",
   "metadata": {},
   "source": [
    "written by SinsuSquid (bgkang) on 19 November 2024"
   ]
  },
  {
   "cell_type": "markdown",
   "id": "f51dfb93-39a7-48a5-ad28-dde14e9c9169",
   "metadata": {},
   "source": [
    "## Miniconda (Not mandatory, but highly recommended)"
   ]
  },
  {
   "cell_type": "markdown",
   "id": "c5dc9769-cf8f-4752-857c-5c659613310d",
   "metadata": {},
   "source": [
    "### Installation"
   ]
  },
  {
   "cell_type": "markdown",
   "id": "5edeea40-94ec-468e-9425-0f25381fffb5",
   "metadata": {},
   "source": [
    "아마 여러분이 어떤 방법을 써서 인공지능을 공부하던간에, 요즘 사용하는 대부분의 인공지능 framework는 Python 기반으로 굴러갈거라고 감히 자신합니다.\n",
    "<br>\n",
    "그만큼 이 분야에서는 Python이 현재 표준으로 사용되는 것 같아요.\n",
    "<br>\n",
    "그렇다면 그냥 Python을 사용하면 될 것을, 뭣하러 귀찮게 conda까지 설치하면서 해줘야 하는 걸까요?\n",
    "<br>\n",
    "conda는 \"OS-agnostic, system-level binary package and environment manager\"라고 설명하고 있는데요, 흔히 '가상 환경'을 만든다고 설명을 많이 합니다.\n",
    "<br><br>\n",
    "이런 경험들 있었을거에요 (없으면 앞으로 생길거에요)\n",
    "<br>\n",
    "\"흠 A 패키지를 사용하려면 numpy 버전이 1.16이어야 하는데 B 패키지는 1.20 이상 버전을 필요로 하네? 그런데 A 패키지는 numpy 1.20에서 없어진 기능을 사용해서 업데이트 하면 안되는데??\"\n",
    "<br>\n",
    "이런 경우 A 패키지와 B 패키지를 서로 다른 가상 환경에 설치한다면, \"A Package\" (가칭)이란 가상 환경에는 numpy 1.16 버전이, \"B Package\"란 가상 환경에는 numpy 1.20 버전이 설치 되어 있을 것이고, 필요에 맞는 환경을 불러와서 사용하면 되는거죠!\n",
    "<br><br>\n",
    "이런 개념을 잘 알아둔다면 docker 등을 setting하는데도 유용하게 사용할 수 있을거에요 (연구실에서 docker까지 손댈지는 모르겠지만~)"
   ]
  },
  {
   "cell_type": "markdown",
   "id": "92834dc8-83d6-4ecf-9fec-b3d9648871de",
   "metadata": {},
   "source": [
    "우리 연구실 양반들은 GUI같은거 잘 안쓰니까 굳이 conda의 full version을 필요로 하지 않아요. (최근 license 업데이트도 있었고요)\n",
    "<br>\n",
    "그래서 우린 가벼운 conda인 Miniconda를 설치하도록 하겠습니다.\n",
    "<br><br>\n",
    "출처 : [Installing Miniconda](https://docs.anaconda.com/miniconda/install/)"
   ]
  },
  {
   "cell_type": "markdown",
   "id": "cb4e68a4-6d04-41de-a269-aea02f0965f4",
   "metadata": {},
   "source": [
    "홈페이지에서 제공하는 script를 사용해도 되지만 굳이 [https://repo.anaconda.com/miniconda/](https://repo.anaconda.com/miniconda/)에 있는 파일들을 사용해보도록 할게요.\n",
    "<br>\n",
    "우리 쓰는 대부분의 컴퓨터는 Linux-x86_64를 다운받으면 될거에요.\n",
    "<br>\n",
    "(Mac에 설치하는 경우엔 MacOSX-arm64를 설치하면 되겠죠?)\n",
    "<br><br>\n",
    "워낙 installer가 잘 되어있는 편이라 실행 방법만 알려주면 될 것 같네요.\n",
    "```bash\n",
    "wget [복사_한_.sh_파일_링크]\n",
    "chmod +x [다운로드_한_파일]\n",
    "./[다운로드_한_파일]\n",
    "```\n",
    "노파심에 하는 소리지만, 만약 위 세 command가 뭔지 잘 모르겠다면 일단 이 메뉴얼을 읽을게 아니라 옆에있는 선배 붙잡고 도와달라 하는게 좋을거에요.\n",
    "<br><br>\n",
    "설치 중 크게 신경쓸건 없고, 설치 완료 후 `conda init`을 실행할지 물어보는데, 쉽게 말하면 \"로그인 할 때 (base)란 이름의 conda 환경이 자동으로 실행되도록 할까?\" 라는 뜻입니다.\n",
    "<br>\n",
    "아마 대부분의 경우엔 yes라 답하는게 편할거에요."
   ]
  },
  {
   "cell_type": "markdown",
   "id": "1bdef5ed-6b5b-4f82-8ec6-49920e2a9ccf",
   "metadata": {},
   "source": [
    "### conda usage"
   ]
  },
  {
   "cell_type": "markdown",
   "id": "9f63465f-8c81-4b94-b25a-c45590f02a4c",
   "metadata": {},
   "source": [
    "이 부분은 command 사용 예시를 알려주는게 아무레도 도움이 될거 같아요.\n",
    "```bash\n",
    "# 새로운 environment 생성\n",
    "conda create -n [생성하는_환경_이름] python=3.12 # 원하는 python version - 지정 안해도 됨\n",
    "\n",
    "# 생성한 env. 활성화하기\n",
    "conda activate [생성한_환경_이름]\n",
    "# 잘 되었다면 \"(생성한_환경_이름) user@domain $ \" 비스무리 하게 나올거에요.\n",
    "\n",
    "# 활성화 된 env.로부터 나가기\n",
    "conda deactivate\n",
    "```"
   ]
  },
  {
   "cell_type": "markdown",
   "id": "f99d33a1-4d43-4168-a15e-ba00e924ca15",
   "metadata": {},
   "source": [
    "## Requirements Installation"
   ]
  },
  {
   "cell_type": "markdown",
   "id": "527a93d4-4a3a-4d06-b3a9-46deb2b817c0",
   "metadata": {},
   "source": [
    "이 repository에 있는 GNN 관련 code를 실행하기 위해서는 몇가지 package를 설치해주어야 해요.\n",
    "<br>\n",
    "대표적인 case를 설치하는 방법을 알려주면 앞으로 필요한 package만 알려주면 설치 할 수 있겠죠? ^^\n",
    "```bash\n",
    "# PyTorch 설치법 (https://pytorch.org/get-started/locally/ 참고) - conda를 사용해서\n",
    "conda install pytorch torchvision torchaudio pytorch-cuda=12.4 -c pytorch -c nvidia\n",
    "\n",
    "# RDKit 설치법 (https://pypi.org/project/rdkit/ 참고) - pip을 사용해서\n",
    "pip install rdkit\n",
    "```\n",
    "`conda`와 `pip`의 차이점은 서로 다른 repo에서 찾아서 설치한다고 알면 될것같고, 각각 anaconda, PyPI repo를 사용해요.\n",
    "<br>\n",
    "꼭 강요되는건 아닌데, 설치시에 `conda`나 `pip`을 모두 지원하는 경우에는 주로 `conda`를 써서 설치 하긴 해요.\n",
    "<br>특별한 이유는 없답니다."
   ]
  },
  {
   "cell_type": "markdown",
   "id": "7c63bca7-a75f-435f-b385-c1054ca9d684",
   "metadata": {},
   "source": [
    "자, 그럼 아래가 대충 필요한 package 리스트니까 잘 설치해봐요 ^^\n",
    "<br>\n",
    "아마 몇개는 다른 package를 설치하며 dependency를 해결하는 과정에서 이미 설치될수도 있을거에요.\n",
    "\n",
    "- numpy\n",
    "- matplotlib\n",
    "- pandas\n",
    "- networkx\n",
    "- rdkit\n",
    "- torch\n",
    "- torch_geometric\n",
    "- jupyter\n",
    "- scipy\n",
    "- scikit-learn\n",
    "\n",
    "이거 외에도 code실행하다보면 더 필요한 package들이 있을수도 있는데 그건 알잘딱깔센으로 추가로 설치하도록 해봐요.\n",
    "<br><br>\n",
    "PS. 저도 맨날 '아맞다' 하는거긴 한데, 내가 설치하고자 하는 가상 환경을 activate한 후에 설치를 진행했는지 다시 한번 잘 확인해보도록 해요..."
   ]
  },
  {
   "cell_type": "markdown",
   "id": "28eda9fe-6e03-44c7-be25-32408e84c3ac",
   "metadata": {},
   "source": [
    "## Are you ready?"
   ]
  },
  {
   "cell_type": "markdown",
   "id": "ca932da0-651b-4ecd-9242-6dc33774c5cf",
   "metadata": {},
   "source": [
    "설치를 해봤다면 이번엔 설치가 잘 되었는지 확인해야겠죠?\n",
    "<br>\n",
    "Terminal에 `python` 또는 `python3`을 입력해서 Python interpreter를 실행한 뒤, 다음과 같은 command를 통해 import가 잘 되고있는지 확인해보면 될거에요.\n",
    "\n",
    "```python\n",
    "import torch\n",
    "import torch_geometric\n",
    "import sklearn\n",
    "import rdkit\n",
    "\n",
    "import numpy as np # 이놈들은 많은 사람들이 사용하는 alias요요\n",
    "import matplotlib.pyplot as plt\n",
    "import pandas as pd\n",
    "import networkx as nx\n",
    "```"
   ]
  },
  {
   "cell_type": "markdown",
   "id": "724061b4-6efd-449d-86e2-4815b5240fee",
   "metadata": {},
   "source": [
    "# Wrap Up!\n",
    "이번 시간엔 앞으로 GNN 수업을 진행하기 위한 environment를 구성해봤어요.\n",
    "<br>\n",
    "제가 직접 가르치는 후배들은 선배님이 친히 conda environment까지 만들어서 바쳤으니 이 단계는 읽어보기만 하면 될 것 같고, 그 밑에 후배님들은 잘 읽으면서 굴러보세요 ㅎ"
   ]
  }
 ],
 "metadata": {
  "kernelspec": {
   "display_name": "Python 3 (ipykernel)",
   "language": "python",
   "name": "python3"
  },
  "language_info": {
   "codemirror_mode": {
    "name": "ipython",
    "version": 3
   },
   "file_extension": ".py",
   "mimetype": "text/x-python",
   "name": "python",
   "nbconvert_exporter": "python",
   "pygments_lexer": "ipython3",
   "version": "3.12.0"
  }
 },
 "nbformat": 4,
 "nbformat_minor": 5
}
