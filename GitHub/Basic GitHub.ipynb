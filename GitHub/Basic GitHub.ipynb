{
 "cells": [
  {
   "cell_type": "markdown",
   "id": "22ba698d-5223-4b02-a225-273c5357a302",
   "metadata": {},
   "source": [
    "# Basic GitHub"
   ]
  },
  {
   "cell_type": "markdown",
   "id": "fca9e95f-3428-42ec-97db-06cab4aced0e",
   "metadata": {},
   "source": [
    "written by SinsuSquid (bgkang) on 19 November 2024"
   ]
  },
  {
   "cell_type": "markdown",
   "id": "48236ec0-f60a-439f-8494-7c929c2e8943",
   "metadata": {},
   "source": [
    "GitHub는 주로 code나 package등을 공유하기 위해 주로 사용되는 platform이고, 쉽게 말하면 전 세계의 나서기 좋아하는 찐따들이 (뜨끔!) 자기가 만든거 자랑하는 곳이에요.\n",
    "<br>\n",
    "흔히 GitHub를 Open Source의 성지라고 말하는데, 이 말은 내가 짠 모든 code들이 문자 그대로 '공개'되는 장소라는 의미에요.\n",
    "<br>\n",
    "그러니까 음침한 애니프사 전문가가 어느날 갑자기 와서는 \"님 code 그렇게 짜면 안됨 ㅉㅉ\" 할 수 있는 공간이라는 것이죠.\n",
    "<br><br>\n",
    "자, 그래도 우린 순기능에 집중해보기로 하죠.\n",
    "<br>\n",
    "다른 사람이 작성한 code를 command 몇줄로 내 컴퓨터로 가져와서 바로 쓸 수 있다는게 아마 우리가 GitHub을 사용하는 주 목적이 될겁니다.\n",
    "<br>\n",
    "그렇기 때문에 이 글에서는 'GitHub에서 repository를 clone해서 내 컴퓨터에 가져와서 사용하는법'에 집중해서 설명하도록 하죠.\n",
    "<br>\n",
    "\"아뉜데 아뉜데! 난 내 code 자랑하고슆은데!\"하는 사람은 여기서 알짱거리지 말고 YouTube검색이나 먼저 하고 오세요."
   ]
  },
  {
   "cell_type": "markdown",
   "id": "a09789fd-2b50-432a-b893-fb375436ec9b",
   "metadata": {},
   "source": [
    "## How to clone a repository"
   ]
  },
  {
   "attachments": {},
   "cell_type": "markdown",
   "id": "c3e14681-cd32-44f7-a3be-1f4f9ff2d479",
   "metadata": {},
   "source": [
    "먼저 repository는 'code 저장소'라고 생각하면 될거에요.\n",
    "<br>\n",
    "이런 repository를 'clone'한다는건 저장소로부터 code를 내 컴퓨터를 복사한다는 개념입니다.\n",
    "<br>\n",
    "예시로 [이런 repository](github.com/SinsuSquid/Wildflower-Class)가 있다고 해보죠. (조회수 올릴라는거 아닙니다 흠흠. star라도 눌러주면 조금 고맙긴 하겠네요, 흥!)\n",
    "<br>\n",
    "들어가면 이런 화면이 보일 터인데, 아무래도 빨간 상자는 눌러보라고 있는거겠죠?\n",
    "<br>\n",
    "<img src=\"Figure/00.png\" alt=\"drawing\" width=\"500\"/>\n",
    "<br>\n",
    "누르면 아래처럼 될거고,\n",
    "<br>\n",
    "<img src=\"Figure/01.png\" alt=\"drawing\" width=\"500\"/>\n",
    "<br>\n",
    "빨간 버튼을 클릭하면 이번엔 repository의 주소를 복사할거에요."
   ]
  },
  {
   "cell_type": "markdown",
   "id": "cff4c725-fb87-4240-b4c0-6717bfd7f595",
   "metadata": {},
   "source": [
    "자, 주소를 복사했으면 이번에는 clone할 컴퓨터의 terminal을 접속해봅시다.\n",
    "```bash\n",
    "git clone https://github.com/SinsuSquid/Wildflower-Class\n",
    "```\n",
    "PS1. `git`이 설치 안되어있다면 컴퓨터 관리자한테 달려가 설치해달라고 합시다.\n",
    "<br>\n",
    "PS2. 만약 당신이 컴퓨터 관리자라면, `git`도 설치 안하고 뭐했어요?\n",
    "<br><br>\n",
    "이런식으로 clone을 해오면 이제 여러분의 컴퓨터에 code가 다운받아져있을거에요.\n",
    "<br>\n",
    "여기서 code 수정한다고 해서 online repository에 있는 code가 바뀌는건 아니니까 마음대로 수정하면 됩니다."
   ]
  },
  {
   "cell_type": "markdown",
   "id": "c03feda3-fd4f-4d8a-bcaa-1d9e65fae22b",
   "metadata": {},
   "source": [
    "PS. 만약 '난 어차피 `git`도 잘 안쓰는데, 자꾸 terminal에 정보 뜨는게 거슬린다 싶으신 분은 해당 폴더 내 `.git` 폴더를 삭제하면 됩니다.\n",
    "```bash\n",
    "rm -rdf ./.git\n",
    "```\n",
    "물론 이 폴더를 삭제할 경우 더 이상 `git` 기능은 사용할 수 없어요."
   ]
  },
  {
   "cell_type": "markdown",
   "id": "2e15c59a-40ff-4b51-92eb-38c189835650",
   "metadata": {},
   "source": [
    "## Wrap up!\n",
    "오늘 한건 컴공과 애들이 보면 코웃음칠정도로 기본에기본에기본의 기능만 사용한거라 `git`을 조금 더 잘 써보고싶은 사람은 따로 공부가 필요할거에요.\n",
    "<br>\n",
    "물론 제가 알려주진 않을겁니다 ㅎ (YouTube 봐요 ㅎㅎ)\n",
    "<br>\n",
    "앞으로 남의 코드를 잔뜩 배껴서 내 마음데로 사용해보도록 해요!"
   ]
  }
 ],
 "metadata": {
  "kernelspec": {
   "display_name": "Python 3 (ipykernel)",
   "language": "python",
   "name": "python3"
  },
  "language_info": {
   "codemirror_mode": {
    "name": "ipython",
    "version": 3
   },
   "file_extension": ".py",
   "mimetype": "text/x-python",
   "name": "python",
   "nbconvert_exporter": "python",
   "pygments_lexer": "ipython3",
   "version": "3.12.0"
  }
 },
 "nbformat": 4,
 "nbformat_minor": 5
}
